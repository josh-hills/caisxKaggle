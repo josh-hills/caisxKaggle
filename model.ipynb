{
 "cells": [
  {
   "cell_type": "markdown",
   "metadata": {},
   "source": [
    "#### Imports"
   ]
  },
  {
   "cell_type": "code",
   "execution_count": 2,
   "metadata": {},
   "outputs": [],
   "source": [
    "import pandas as pd\n",
    "\n",
    "from sklearn.ensemble import RandomForestRegressor\n",
    "from sklearn.model_selection import train_test_split\n",
    "from sklearn import model_selection \n",
    "\n",
    "import warnings\n",
    "\n",
    "def fxn():\n",
    "    warnings.warn(\"deprecated\", DeprecationWarning)\n",
    "\n",
    "with warnings.catch_warnings():\n",
    "    warnings.simplefilter(\"ignore\")\n",
    "    fxn()\n",
    "pd.set_option('display.max_columns', None)"
   ]
  },
  {
   "cell_type": "code",
   "execution_count": 3,
   "metadata": {},
   "outputs": [],
   "source": [
    "# These pickle files were generated in the dataPreprocessing.ipynb\n",
    "test = pd.read_pickle('test_data_preprocessed.pkl')\n",
    "train = pd.read_pickle('train_data_preprocessed.pkl')"
   ]
  },
  {
   "cell_type": "code",
   "execution_count": 4,
   "metadata": {},
   "outputs": [],
   "source": [
    "train_X, test_X, train_y, test_y = train_test_split(train.drop('G3', axis=1), train['G3'], test_size=0.15, random_state=42)\n",
    "# use hyperparameter tuning to find the best RandomForestRegressor model"
   ]
  },
  {
   "cell_type": "code",
   "execution_count": null,
   "metadata": {},
   "outputs": [],
   "source": [
    "# find the best model using randomized search on hyper parameters\n",
    "def randomizedSearch():\n",
    "    param_grid = {\n",
    "        'n_estimators': [10, 50, 100, 200, 500],\n",
    "        'max_features': ['auto', 'sqrt', 'log2'],\n",
    "        'max_depth': [4, 5, 6, 7, 8, 9, 10],\n",
    "        'criterion': ['squared_error', 'absolute_error'],\n",
    "        'min_samples_split': [2, 3, 4, 5, 6, 7, 8, 9, 10],\n",
    "        'min_samples_leaf': [1, 2, 3, 4, 5, 6, 7, 8, 9, 10]\n",
    "    }\n",
    "\n",
    "    randomforest_model = RandomForestRegressor()\n",
    "    randomforest_grid = model_selection.RandomizedSearchCV(randomforest_model, param_grid, cv=10, scoring='neg_mean_squared_error', n_iter=4)\n",
    "    return randomforest_grid.best_params_ \n",
    "\n",
    "# randomizedSearch()"
   ]
  },
  {
   "cell_type": "code",
   "execution_count": 5,
   "metadata": {},
   "outputs": [],
   "source": [
    "def genRandomForestModel():\n",
    "    model = RandomForestRegressor(n_estimators=10, min_samples_split=3, min_samples_leaf=5, max_features='auto')\n",
    "    model.fit(train_X, train_y)\n",
    "    return model"
   ]
  },
  {
   "cell_type": "code",
   "execution_count": 6,
   "metadata": {},
   "outputs": [],
   "source": [
    "# create model and generate submission\n",
    "randomforest_model = genRandomForestModel()\n",
    "predictions = randomforest_model.predict(test)\n",
    "\n",
    "output_df = pd.DataFrame({'studentID': test['studentID'], 'G3': predictions})\n",
    "output_df.reset_index(drop=True, inplace=True)\n",
    "output_df.to_csv('submission.csv', index=False)"
   ]
  }
 ],
 "metadata": {
  "interpreter": {
   "hash": "6e526ddeff90a1b6acb572d55cfded43540f1f290e268c586e83fa734f9fafa1"
  },
  "kernelspec": {
   "display_name": "Python 3.9.10 64-bit (windows store)",
   "language": "python",
   "name": "python3"
  },
  "language_info": {
   "codemirror_mode": {
    "name": "ipython",
    "version": 3
   },
   "file_extension": ".py",
   "mimetype": "text/x-python",
   "name": "python",
   "nbconvert_exporter": "python",
   "pygments_lexer": "ipython3",
   "version": "3.9.12"
  },
  "orig_nbformat": 4
 },
 "nbformat": 4,
 "nbformat_minor": 2
}
